{
 "cells": [
  {
   "cell_type": "markdown",
   "metadata": {},
   "source": [
    "### Amazon Products Review Sentiment Analysis"
   ]
  },
  {
   "cell_type": "code",
   "execution_count": 26,
   "metadata": {
    "ExecuteTime": {
     "end_time": "2020-12-13T05:04:58.510597Z",
     "start_time": "2020-12-13T05:04:58.248751Z"
    },
    "scrolled": true
   },
   "outputs": [
    {
     "data": {
      "text/html": [
       "<div>\n",
       "<style scoped>\n",
       "    .dataframe tbody tr th:only-of-type {\n",
       "        vertical-align: middle;\n",
       "    }\n",
       "\n",
       "    .dataframe tbody tr th {\n",
       "        vertical-align: top;\n",
       "    }\n",
       "\n",
       "    .dataframe thead th {\n",
       "        text-align: right;\n",
       "    }\n",
       "</style>\n",
       "<table border=\"1\" class=\"dataframe\">\n",
       "  <thead>\n",
       "    <tr style=\"text-align: right;\">\n",
       "      <th></th>\n",
       "      <th>one_review_stars</th>\n",
       "      <th>one_review_text</th>\n",
       "    </tr>\n",
       "  </thead>\n",
       "  <tbody>\n",
       "    <tr>\n",
       "      <td>0</td>\n",
       "      <td>3.0</td>\n",
       "      <td>This is my first product like this.  I never...</td>\n",
       "    </tr>\n",
       "    <tr>\n",
       "      <td>1</td>\n",
       "      <td>5.0</td>\n",
       "      <td>I love my Foreo Luna 2!  I too, am a former ...</td>\n",
       "    </tr>\n",
       "    <tr>\n",
       "      <td>2</td>\n",
       "      <td>1.0</td>\n",
       "      <td>Terrible experience of using this brush. It ...</td>\n",
       "    </tr>\n",
       "    <tr>\n",
       "      <td>3</td>\n",
       "      <td>5.0</td>\n",
       "      <td>I already owned the original FOREO Luna for ...</td>\n",
       "    </tr>\n",
       "    <tr>\n",
       "      <td>4</td>\n",
       "      <td>5.0</td>\n",
       "      <td>I have been hooked on these since I got the ...</td>\n",
       "    </tr>\n",
       "    <tr>\n",
       "      <td>...</td>\n",
       "      <td>...</td>\n",
       "      <td>...</td>\n",
       "    </tr>\n",
       "    <tr>\n",
       "      <td>3225</td>\n",
       "      <td>4.0</td>\n",
       "      <td>Die Luna mini 2  ist eine auf den ersten Bli...</td>\n",
       "    </tr>\n",
       "    <tr>\n",
       "      <td>3226</td>\n",
       "      <td>4.0</td>\n",
       "      <td>Ich habe noch nie von einer Gesichtsreinigun...</td>\n",
       "    </tr>\n",
       "    <tr>\n",
       "      <td>3227</td>\n",
       "      <td>4.0</td>\n",
       "      <td>Ich habe noch nie von einer Gesichtsreinigun...</td>\n",
       "    </tr>\n",
       "    <tr>\n",
       "      <td>3228</td>\n",
       "      <td>5.0</td>\n",
       "      <td>Wirklich erstaunlich, was diese Gesichtsbürs...</td>\n",
       "    </tr>\n",
       "    <tr>\n",
       "      <td>3229</td>\n",
       "      <td>5.0</td>\n",
       "      <td>Wirklich erstaunlich, was diese Gesichtsbürs...</td>\n",
       "    </tr>\n",
       "  </tbody>\n",
       "</table>\n",
       "<p>4354 rows × 2 columns</p>\n",
       "</div>"
      ],
      "text/plain": [
       "      one_review_stars                                    one_review_text\n",
       "0                  3.0    This is my first product like this.  I never...\n",
       "1                  5.0    I love my Foreo Luna 2!  I too, am a former ...\n",
       "2                  1.0    Terrible experience of using this brush. It ...\n",
       "3                  5.0    I already owned the original FOREO Luna for ...\n",
       "4                  5.0    I have been hooked on these since I got the ...\n",
       "...                ...                                                ...\n",
       "3225               4.0    Die Luna mini 2  ist eine auf den ersten Bli...\n",
       "3226               4.0    Ich habe noch nie von einer Gesichtsreinigun...\n",
       "3227               4.0    Ich habe noch nie von einer Gesichtsreinigun...\n",
       "3228               5.0    Wirklich erstaunlich, was diese Gesichtsbürs...\n",
       "3229               5.0    Wirklich erstaunlich, was diese Gesichtsbürs...\n",
       "\n",
       "[4354 rows x 2 columns]"
      ]
     },
     "execution_count": 26,
     "metadata": {},
     "output_type": "execute_result"
    }
   ],
   "source": [
    "import pandas as pd\n",
    "from sklearn.feature_extraction.text import CountVectorizer\n",
    "from sklearn import linear_model\n",
    "from sklearn.metrics import confusion_matrix\n",
    "from sklearn.neighbors import KNeighborsClassifier\n",
    "\n",
    "def result_correction(data):\n",
    "    data[data>5] = 5\n",
    "    data[data<1] = 1\n",
    "    return data\n",
    "\n",
    "\n",
    "def pred_format_process(clf,data):\n",
    "    pred_data = clf.predict(data.toarray()).round().astype(int)\n",
    "    pred_data = result_correction(pred_data)\n",
    "    return pred_data\n",
    "\n",
    "\n",
    "def acc(Y_true,Y_pred):\n",
    "    conf_mat = confusion_matrix(Y_true, Y_pred)\n",
    "    acc = np.sum(np.sum(conf_mat.diagonal())+np.sum(conf_mat.diagonal(offset=-1))+np.sum(conf_mat.diagonal(offset=1)))/np.sum(conf_mat)\n",
    "    return acc\n",
    "\n",
    "\n",
    "luna = pd.read_csv('amazon_luna2_review.csv').reset_index()\n",
    "lunaMini = pd.read_csv('amazon_luna2mini_review.csv').reset_index()\n",
    "luna = pd.concat([luna,lunaMini], axis=0)\n",
    "luna['one_review_text'] = list(map(lambda x: x.strip('\\n'), luna['one_review_text']))\n",
    "dta = luna[['one_review_stars','one_review_text']]\n",
    "dta\n"
   ]
  },
  {
   "cell_type": "code",
   "execution_count": null,
   "metadata": {},
   "outputs": [],
   "source": []
  },
  {
   "cell_type": "code",
   "execution_count": null,
   "metadata": {},
   "outputs": [],
   "source": []
  },
  {
   "cell_type": "code",
   "execution_count": null,
   "metadata": {},
   "outputs": [],
   "source": []
  },
  {
   "cell_type": "code",
   "execution_count": null,
   "metadata": {},
   "outputs": [],
   "source": []
  },
  {
   "cell_type": "code",
   "execution_count": 32,
   "metadata": {
    "ExecuteTime": {
     "end_time": "2020-12-13T05:08:55.931173Z",
     "start_time": "2020-12-13T05:08:55.748355Z"
    }
   },
   "outputs": [
    {
     "name": "stdout",
     "output_type": "stream",
     "text": [
      "['aber', 'about', 'acne', 'after', 'al', 'all', 'also', 'am', 'amazing', 'amazon', 'an', 'and', 'anti', 'any', 'are', 'around', 'as', 'at', 'auch', 'battery', 'be', 'because', 'been', 'before', 'best', 'better', 'bien', 'bought', 'brush', 'but', 'buy', 'can', 'cara', 'charge', 'che', 'clarisonic', 'clean', 'cleaning', 'cleanser', 'cleansing', 'como', 'con', 'could', 'da', 'das', 'day', 'days', 'de', 'definitely', 'deja', 'del', 'den', 'der', 'desde', 'device', 'di', 'did', 'didn', 'die', 'difference', 'different', 'do', 'does', 'doesn', 'don', 'dopo', 'dura', 'easy', 'ein', 'eine', 'el', 'en', 'es', 'este', 'estoy', 'et', 'even', 'every', 'face', 'facial', 'feel', 'feels', 'felt', 'few', 'first', 'for', 'foreo', 'from', 'für', 'gentle', 'gerät', 'get', 'good', 'got', 'great', 'gut', 'ha', 'habe', 'had', 'hand', 'happy', 'has', 'haut', 'have', 'he', 'ho', 'how', 'ich', 'if', 'il', 'in', 'is', 'ist', 'it', 'its', 'je', 'just', 'kann', 'la', 'las', 'last', 'le', 'less', 'like', 'limpia', 'limpieza', 'little', 'lo', 'long', 'looks', 'los', 'lot', 'love', 'luna', 'ma', 'made', 'make', 'makes', 'man', 'me', 'meine', 'mi', 'mia', 'mini', 'mir', 'mit', 'molto', 'money', 'months', 'more', 'much', 'mucho', 'muy', 'my', 'más', 'nach', 'need', 'never', 'new', 'nice', 'nicht', 'no', 'non', 'not', 'now', 'of', 'on', 'once', 'one', 'only', 'or', 'original', 'other', 'out', 'over', 'para', 'peau', 'pelle', 'per', 'pero', 'piel', 'più', 'plus', 'por', 'pores', 'precio', 'price', 'prodotto', 'product', 'producto', 'pulizia', 'que', 'really', 'recommend', 'routine', 'say', 'se', 'see', 'sehr', 'sensitive', 'she', 'si', 'sich', 'silicone', 'sin', 'since', 'skin', 'smooth', 'so', 'soft', 'solo', 'sono', 'still', 'su', 'suave', 'super', 'sure', 'te', 'tengo', 'than', 'that', 'the', 'then', 'there', 'they', 'thing', 'think', 'this', 'time', 'to', 'too', 'two', 'un', 'una', 'und', 'up', 'usb', 'use', 'used', 'using', 'uso', 'utilizzo', 've', 'very', 'viso', 'was', 'wash', 'week', 'weeks', 'well', 'what', 'when', 'which', 'will', 'with', 'without', 'work', 'works', 'worth', 'would', 'ya', 'years', 'you', 'your', 'zu']\n",
      "[[0 0 0 ... 0 0 0]\n",
      " [0 0 0 ... 0 0 0]\n",
      " [0 0 0 ... 0 0 0]\n",
      " ...\n",
      " [0 0 0 ... 0 0 0]\n",
      " [0 0 0 ... 0 0 0]\n",
      " [0 0 0 ... 0 0 0]]\n"
     ]
    }
   ],
   "source": [
    "dta['ML_group'] = np.random.randint(100,size = dta.shape[0])\n",
    "dta['one_review_stars'] = dta.one_review_stars.astype(int)\n",
    "dta = dta.sort_values(by='ML_group')\n",
    "\n",
    "corpus = dta.one_review_text.to_list()\n",
    "vectorizer = CountVectorizer(lowercase = True,\n",
    "                             ngram_range = (1,1),\n",
    "                             max_df = 0.75,\n",
    "                             min_df = 0.02);\n",
    "X = vectorizer.fit_transform(corpus)\n",
    "\n",
    "print(vectorizer.get_feature_names())\n",
    "print(X.toarray())"
   ]
  },
  {
   "cell_type": "code",
   "execution_count": 34,
   "metadata": {
    "ExecuteTime": {
     "end_time": "2020-12-13T05:10:13.066087Z",
     "start_time": "2020-12-13T05:10:13.045561Z"
    }
   },
   "outputs": [],
   "source": [
    "# data split\n",
    "inx_train = dta.ML_group<80                     \n",
    "inx_valid = (dta.ML_group<90)&(dta.ML_group>=80)\n",
    "inx_test = (dta.ML_group>=90)                  \n",
    "\n",
    "# in R lm(Y~X)\n",
    "Y_train = dta.one_review_stars[inx_train].to_list()\n",
    "Y_valid = dta.one_review_stars[inx_valid].to_list()\n",
    "Y_test = dta.one_review_stars[inx_test].to_list()\n",
    "\n",
    "X_train = X[np.where(inx_train)[0],:]\n",
    "X_valid = X[np.where(inx_valid)[0],:]\n",
    "X_test = X[np.where(inx_test)[0],:]"
   ]
  },
  {
   "cell_type": "code",
   "execution_count": 36,
   "metadata": {
    "ExecuteTime": {
     "end_time": "2020-12-13T05:12:26.263367Z",
     "start_time": "2020-12-13T05:12:26.219935Z"
    }
   },
   "outputs": [],
   "source": [
    "from sklearn.model_selection import GridSearchCV\n",
    "from sklearn.model_selection import ShuffleSplit\n",
    "from sklearn.model_selection import train_test_split\n",
    "from sklearn.neural_network import MLPClassifier\n",
    "from sklearn.metrics import make_scorer\n"
   ]
  },
  {
   "cell_type": "code",
   "execution_count": 37,
   "metadata": {
    "ExecuteTime": {
     "end_time": "2020-12-13T05:12:47.282343Z",
     "start_time": "2020-12-13T05:12:27.761342Z"
    }
   },
   "outputs": [
    {
     "name": "stdout",
     "output_type": "stream",
     "text": [
      "--- generalization ability test ---\n",
      "test accuracy is 0.939597\n"
     ]
    }
   ],
   "source": [
    "# test generalization ability\n",
    "clf = MLPClassifier(activation='logistic',max_iter=10000)\n",
    "clf.fit(X_train.toarray(), Y_train)\n",
    "\n",
    "pred_test = pred_format_process(clf,X_test)\n",
    "acc3 = acc(Y_test, pred_test)\n",
    "print('--- generalization ability test ---')\n",
    "print('test accuracy is %f'%acc3)"
   ]
  },
  {
   "cell_type": "code",
   "execution_count": 40,
   "metadata": {
    "ExecuteTime": {
     "end_time": "2020-12-13T05:20:36.158786Z",
     "start_time": "2020-12-13T05:20:36.151856Z"
    }
   },
   "outputs": [
    {
     "data": {
      "text/plain": [
       "['i',\n",
       " 'me',\n",
       " 'my',\n",
       " 'myself',\n",
       " 'we',\n",
       " 'our',\n",
       " 'ours',\n",
       " 'ourselves',\n",
       " 'you',\n",
       " \"you're\",\n",
       " \"you've\",\n",
       " \"you'll\",\n",
       " \"you'd\",\n",
       " 'your',\n",
       " 'yours',\n",
       " 'yourself',\n",
       " 'yourselves',\n",
       " 'he',\n",
       " 'him',\n",
       " 'his',\n",
       " 'himself',\n",
       " 'she',\n",
       " \"she's\",\n",
       " 'her',\n",
       " 'hers',\n",
       " 'herself',\n",
       " 'it',\n",
       " \"it's\",\n",
       " 'its',\n",
       " 'itself',\n",
       " 'they',\n",
       " 'them',\n",
       " 'their',\n",
       " 'theirs',\n",
       " 'themselves',\n",
       " 'what',\n",
       " 'which',\n",
       " 'who',\n",
       " 'whom',\n",
       " 'this',\n",
       " 'that',\n",
       " \"that'll\",\n",
       " 'these',\n",
       " 'those',\n",
       " 'am',\n",
       " 'is',\n",
       " 'are',\n",
       " 'was',\n",
       " 'were',\n",
       " 'be',\n",
       " 'been',\n",
       " 'being',\n",
       " 'have',\n",
       " 'has',\n",
       " 'had',\n",
       " 'having',\n",
       " 'do',\n",
       " 'does',\n",
       " 'did',\n",
       " 'doing',\n",
       " 'a',\n",
       " 'an',\n",
       " 'the',\n",
       " 'and',\n",
       " 'but',\n",
       " 'if',\n",
       " 'or',\n",
       " 'because',\n",
       " 'as',\n",
       " 'until',\n",
       " 'while',\n",
       " 'of',\n",
       " 'at',\n",
       " 'by',\n",
       " 'for',\n",
       " 'with',\n",
       " 'about',\n",
       " 'against',\n",
       " 'between',\n",
       " 'into',\n",
       " 'through',\n",
       " 'during',\n",
       " 'before',\n",
       " 'after',\n",
       " 'above',\n",
       " 'below',\n",
       " 'to',\n",
       " 'from',\n",
       " 'up',\n",
       " 'down',\n",
       " 'in',\n",
       " 'out',\n",
       " 'on',\n",
       " 'off',\n",
       " 'over',\n",
       " 'under',\n",
       " 'again',\n",
       " 'further',\n",
       " 'then',\n",
       " 'once',\n",
       " 'here',\n",
       " 'there',\n",
       " 'when',\n",
       " 'where',\n",
       " 'why',\n",
       " 'how',\n",
       " 'all',\n",
       " 'any',\n",
       " 'both',\n",
       " 'each',\n",
       " 'few',\n",
       " 'more',\n",
       " 'most',\n",
       " 'other',\n",
       " 'some',\n",
       " 'such',\n",
       " 'no',\n",
       " 'nor',\n",
       " 'not',\n",
       " 'only',\n",
       " 'own',\n",
       " 'same',\n",
       " 'so',\n",
       " 'than',\n",
       " 'too',\n",
       " 'very',\n",
       " 's',\n",
       " 't',\n",
       " 'can',\n",
       " 'will',\n",
       " 'just',\n",
       " 'don',\n",
       " \"don't\",\n",
       " 'should',\n",
       " \"should've\",\n",
       " 'now',\n",
       " 'd',\n",
       " 'll',\n",
       " 'm',\n",
       " 'o',\n",
       " 're',\n",
       " 've',\n",
       " 'y',\n",
       " 'ain',\n",
       " 'aren',\n",
       " \"aren't\",\n",
       " 'couldn',\n",
       " \"couldn't\",\n",
       " 'didn',\n",
       " \"didn't\",\n",
       " 'doesn',\n",
       " \"doesn't\",\n",
       " 'hadn',\n",
       " \"hadn't\",\n",
       " 'hasn',\n",
       " \"hasn't\",\n",
       " 'haven',\n",
       " \"haven't\",\n",
       " 'isn',\n",
       " \"isn't\",\n",
       " 'ma',\n",
       " 'mightn',\n",
       " \"mightn't\",\n",
       " 'mustn',\n",
       " \"mustn't\",\n",
       " 'needn',\n",
       " \"needn't\",\n",
       " 'shan',\n",
       " \"shan't\",\n",
       " 'shouldn',\n",
       " \"shouldn't\",\n",
       " 'wasn',\n",
       " \"wasn't\",\n",
       " 'weren',\n",
       " \"weren't\",\n",
       " 'won',\n",
       " \"won't\",\n",
       " 'wouldn',\n",
       " \"wouldn't\"]"
      ]
     },
     "execution_count": 40,
     "metadata": {},
     "output_type": "execute_result"
    }
   ],
   "source": [
    "from nltk.corpus import stopwords\n",
    "stops = stopwords.words(\"English\")\n",
    "stops"
   ]
  },
  {
   "cell_type": "code",
   "execution_count": null,
   "metadata": {},
   "outputs": [],
   "source": []
  }
 ],
 "metadata": {
  "hide_input": false,
  "kernelspec": {
   "display_name": "Python 3",
   "language": "python",
   "name": "python3"
  },
  "language_info": {
   "codemirror_mode": {
    "name": "ipython",
    "version": 3
   },
   "file_extension": ".py",
   "mimetype": "text/x-python",
   "name": "python",
   "nbconvert_exporter": "python",
   "pygments_lexer": "ipython3",
   "version": "3.7.4"
  },
  "toc": {
   "base_numbering": 1,
   "nav_menu": {},
   "number_sections": true,
   "sideBar": true,
   "skip_h1_title": false,
   "title_cell": "Table of Contents",
   "title_sidebar": "Contents",
   "toc_cell": false,
   "toc_position": {},
   "toc_section_display": true,
   "toc_window_display": false
  },
  "varInspector": {
   "cols": {
    "lenName": 16,
    "lenType": 16,
    "lenVar": 40
   },
   "kernels_config": {
    "python": {
     "delete_cmd_postfix": "",
     "delete_cmd_prefix": "del ",
     "library": "var_list.py",
     "varRefreshCmd": "print(var_dic_list())"
    },
    "r": {
     "delete_cmd_postfix": ") ",
     "delete_cmd_prefix": "rm(",
     "library": "var_list.r",
     "varRefreshCmd": "cat(var_dic_list()) "
    }
   },
   "types_to_exclude": [
    "module",
    "function",
    "builtin_function_or_method",
    "instance",
    "_Feature"
   ],
   "window_display": false
  }
 },
 "nbformat": 4,
 "nbformat_minor": 2
}
